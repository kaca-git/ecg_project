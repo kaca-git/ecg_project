{
 "cells": [
  {
   "cell_type": "code",
   "execution_count": 1,
   "id": "6deb834b-87ec-46d8-980a-93ff48bcac45",
   "metadata": {},
   "outputs": [],
   "source": [
    "import numpy as np\n",
    "import pandas as pd\n",
    "import pymongo\n",
    "from pymongo import MongoClient\n",
    "import tensorflow as tf\n",
    "from tensorflow import keras\n",
    "from tensorflow.keras import regularizers\n",
    "from tensorflow.keras.callbacks import ModelCheckpoint\n",
    "import matplotlib.pyplot as plt\n",
    "from sklearn.model_selection import train_test_split\n",
    "import sklearn\n",
    "import itertools\n",
    "from tensorflow_addons.optimizers import CyclicalLearningRate\n",
    "import matplotlib as mpl\n",
    "\n",
    "from imblearn.over_sampling import SMOTE\n",
    "from sklearn.preprocessing import OneHotEncoder\n",
    "\n",
    "mpl.style.use('seaborn')"
   ]
  },
  {
   "cell_type": "code",
   "execution_count": 2,
   "id": "12017609",
   "metadata": {},
   "outputs": [],
   "source": [
    "def plot_confusion_matrix(cm, classes,\n",
    "                          normalize=False,\n",
    "                          title='Confusion matrix',\n",
    "                          cmap=plt.cm.Blues):\n",
    "    \"\"\"\n",
    "    This function prints and plots the confusion matrix.\n",
    "    Normalization can be applied by setting `normalize=True`.\n",
    "    \"\"\"\n",
    "    plt.imshow(cm, interpolation='nearest', cmap=cmap)\n",
    "    plt.title(title)\n",
    "    plt.colorbar()\n",
    "    tick_marks = np.arange(len(classes))\n",
    "    plt.xticks(tick_marks, classes, rotation=45)\n",
    "    plt.yticks(tick_marks, classes)\n",
    "\n",
    "    if normalize:\n",
    "        cm = cm.astype('float') / cm.sum(axis=1)[:, np.newaxis]\n",
    "        print(\"Normalized confusion matrix\")\n",
    "    else:\n",
    "        print('Confusion matrix, without normalization')\n",
    "\n",
    "    #print(cm)\n",
    "\n",
    "    thresh = cm.max() / 2.\n",
    "    for i, j in itertools.product(range(cm.shape[0]), range(cm.shape[1])):\n",
    "        plt.text(j, i, cm[i, j],\n",
    "                 horizontalalignment=\"center\",\n",
    "                 color=\"white\" if cm[i, j] > thresh else \"black\")\n",
    "\n",
    "    plt.tight_layout()\n",
    "    plt.ylabel('True label')\n",
    "    plt.xlabel('Predicted label')"
   ]
  },
  {
   "cell_type": "markdown",
   "id": "510decbb",
   "metadata": {},
   "source": [
    "### Import"
   ]
  },
  {
   "cell_type": "code",
   "execution_count": 13,
   "id": "567f0c28",
   "metadata": {},
   "outputs": [],
   "source": [
    "client = MongoClient()\n",
    "db = client.ecg_database\n",
    "collection = db.ecg_signals\n",
    "df = pd.DataFrame(list(collection.find()))\n",
    "labels=df['rhythm_diag']\n",
    "df.drop(df.iloc[:, 0:8], inplace = True, axis = 1)\n",
    "labels=labels.replace(['SR','AFIB','OTHER'],[0,1,2])\n",
    "\n",
    "# Class imbalance affected the performance of ResNet poorly, so minority classes are oversampled\n",
    "oversample = SMOTE()\n",
    "df, labels = oversample.fit_resample(df, labels)"
   ]
  },
  {
   "cell_type": "code",
   "execution_count": 4,
   "id": "0e161980",
   "metadata": {},
   "outputs": [
    {
     "data": {
      "text/plain": [
       "Text(0.5, 1.0, 'Distribution of labels in MIT-BIH Arhythmia dataset')"
      ]
     },
     "execution_count": 4,
     "metadata": {},
     "output_type": "execute_result"
    },
    {
     "data": {
      "image/png": "[encoded data removed]",
      "text/plain": [
       "<Figure size 576x396 with 1 Axes>"
      ]
     },
     "metadata": {},
     "output_type": "display_data"
    }
   ],
   "source": [
    "plt.hist(labels)\n",
    "plt.title(\"Distribution of labels\")"
   ]
  },
  {
   "cell_type": "markdown",
   "id": "48df98d7",
   "metadata": {},
   "source": [
    "### Building the model"
   ]
  },
  {
   "cell_type": "code",
   "execution_count": 17,
   "id": "5b55ee5d",
   "metadata": {},
   "outputs": [],
   "source": [
    "# Splitting the data for training\n",
    "X_train, X_val, y_train, y_val = train_test_split(df, labels, test_size=0.2, random_state=42)\n",
    "X_val, X_test, y_val, y_test  = train_test_split(X_val, y_val, test_size=0.5, random_state=42)\n",
    "\n",
    "print(\"All features size {}\".format(df.iloc[:].shape))\n",
    "print(\"Train features size {}\".format(X_train.shape))\n",
    "print(\"Validation features size {}\".format(X_val.shape))\n",
    "print(\"Test features size {}\".format(X_test.shape))"
   ]
  },
  {
   "cell_type": "code",
   "execution_count": 19,
   "id": "d4e193a0",
   "metadata": {},
   "outputs": [],
   "source": [
    "# Onehot encoding\n",
    "onehot_encoder = OneHotEncoder(sparse=False)\n",
    "y_train = onehot_encoder.fit_transform(np.expand_dims(y_train, -1))\n",
    "y_val = onehot_encoder.fit_transform(np.expand_dims(y_val, -1))\n",
    "y_test_onehot = onehot_encoder.fit_transform(np.expand_dims(y_test, -1))"
   ]
  },
  {
   "cell_type": "code",
   "execution_count": 20,
   "id": "7cdaec81",
   "metadata": {},
   "outputs": [],
   "source": [
    "# ResNet model\n",
    "def get_resnet_model(categories=3):\n",
    "  def residual_block(X, kernels, stride):\n",
    "    out = keras.layers.Conv1D(kernels, stride, padding='same')(X)\n",
    "    out = keras.layers.ReLU()(out)\n",
    "    out = keras.layers.Conv1D(kernels, stride, padding='same')(out)\n",
    "    out = keras.layers.add([X, out])\n",
    "    out = keras.layers.ReLU()(out)\n",
    "    out = keras.layers.MaxPool1D(2, 5)(out)\n",
    "    return out\n",
    "\n",
    "  kernels = 32\n",
    "  stride = 5\n",
    "\n",
    "  inputs = keras.layers.Input([1000,1])\n",
    "  X = keras.layers.Conv1D(kernels, stride)(inputs)\n",
    "  X = residual_block(X, kernels, stride)\n",
    "  X = residual_block(X, kernels, stride)\n",
    "  X = residual_block(X, kernels, stride)\n",
    "  X = residual_block(X, kernels, stride)\n",
    "  X = residual_block(X, kernels, stride)\n",
    "  X = keras.layers.Flatten()(X)\n",
    "  X = keras.layers.Dense(32, activation='relu')(X)\n",
    "  X = keras.layers.Dense(32, activation='relu')(X)\n",
    "  output = (keras.layers.Dense(3, activation='softmax')(X))\n",
    "\n",
    "  model = keras.Model(inputs=inputs, outputs=output)\n",
    "  return model"
   ]
  },
  {
   "cell_type": "code",
   "execution_count": 21,
   "id": "0f29ce64",
   "metadata": {},
   "outputs": [],
   "source": [
    "# Set cyclical learning rate and optimizer\n",
    "N = X_train.shape[0]\n",
    "batch_size = 128\n",
    "iterations = N/batch_size\n",
    "step_size= 2 * iterations\n",
    "\n",
    "lr_schedule = CyclicalLearningRate(1e-6, 1e-3, step_size=step_size, scale_fn=lambda x: tf.pow(0.95,x))\n",
    "optimizer = tf.keras.optimizers.Adam(learning_rate=lr_schedule)"
   ]
  },
  {
   "cell_type": "markdown",
   "id": "267c9051",
   "metadata": {},
   "source": [
    "### Training"
   ]
  },
  {
   "cell_type": "code",
   "execution_count": null,
   "id": "76f63fe0-5052-4288-8fd3-5e746f2a71a2",
   "metadata": {},
   "outputs": [],
   "source": [
    "save_best_weights = ModelCheckpoint(filepath=\"weights.hdf5\", verbose=0, save_best_only=True)\n",
    "\n",
    "resnet_model = get_resnet_model() \n",
    "resnet_model.compile(optimizer=optimizer, loss='categorical_crossentropy', metrics=['accuracy'])\n",
    "history = resnet_model.fit(X_train, y_train, validation_data=(X_val, y_val), \n",
    "                           shuffle=True, batch_size=batch_size, epochs=30, callbacks=[save_best_weights])"
   ]
  },
  {
   "cell_type": "markdown",
   "id": "817da854-9a8c-4b8f-965e-14be8570f566",
   "metadata": {},
   "source": [
    "# Loading best weights and evaluating results"
   ]
  },
  {
   "cell_type": "code",
   "execution_count": 22,
   "id": "03a01449",
   "metadata": {},
   "outputs": [
    {
     "name": "stdout",
     "output_type": "stream",
     "text": [
      "158/158 [==============================] - 3s 11ms/step - loss: 0.2447 - accuracy: 0.9200\n"
     ]
    },
    {
     "data": {
      "text/plain": [
       "[0.24472828209400177, 0.9199602603912354]"
      ]
     },
     "execution_count": 22,
     "metadata": {},
     "output_type": "execute_result"
    }
   ],
   "source": [
    "# Loading the weights and calculating accuracy on test set\n",
    "resnet_model = get_resnet_model() \n",
    "resnet_model.compile(optimizer=optimizer, loss='categorical_crossentropy', metrics=['accuracy'])\n",
    "resnet_model.load_weights('weights.hdf5')\n",
    "resnet_model.evaluate(X_test, y_test_onehot)"
   ]
  },
  {
   "cell_type": "code",
   "execution_count": 23,
   "id": "edc5e2ad",
   "metadata": {},
   "outputs": [
    {
     "name": "stdout",
     "output_type": "stream",
     "text": [
      "Confusion matrix, without normalization\n"
     ]
    },
    {
     "name": "stderr",
     "output_type": "stream",
     "text": [
      "C:\\Users\\mlade\\AppData\\Local\\Programs\\Python\\Python37\\lib\\site-packages\\ipykernel_launcher.py:11: MatplotlibDeprecationWarning: Auto-removal of grids by pcolor() and pcolormesh() is deprecated since 3.5 and will be removed two minor releases later; please call grid(False) first.\n",
      "  # This is added back by InteractiveShellApp.init_path()\n"
     ]
    },
    {
     "data": {
      "image/png": "[encoded data removed]",
      "text/plain": [
       "<Figure size 576x396 with 2 Axes>"
      ]
     },
     "metadata": {},
     "output_type": "display_data"
    }
   ],
   "source": [
    "y_pred=[]\n",
    "predicted = resnet_model.predict(X_test)\n",
    "for i in range(0,len(predicted)):\n",
    "  y_pred.append(np.argmax(predicted[i]))\n",
    "\n",
    "# Compute confusion matrix\n",
    "cnf_matrix = sklearn.metrics.confusion_matrix(y_test, y_pred)\n",
    "np.set_printoptions(precision=2)\n",
    "\n",
    "# Plot non-normalized confusion matrix\n",
    "plt.figure()\n",
    "plot_confusion_matrix(cnf_matrix, classes=['SR','AFIB','OTHER'],\n",
    "                      title='Confusion matrix, without normalization')"
   ]
  },
  {
   "cell_type": "code",
   "execution_count": null,
   "id": "01cf2a49",
   "metadata": {},
   "outputs": [],
   "source": []
  }
 ],
 "metadata": {
  "kernelspec": {
   "display_name": "Python 3 (ipykernel)",
   "language": "python",
   "name": "python3"
  },
  "language_info": {
   "codemirror_mode": {
    "name": "ipython",
    "version": 3
   },
   "file_extension": ".py",
   "mimetype": "text/x-python",
   "name": "python",
   "nbconvert_exporter": "python",
   "pygments_lexer": "ipython3",
   "version": "3.7.9"
  }
 },
 "nbformat": 4,
 "nbformat_minor": 5
}
